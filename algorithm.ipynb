
{
 "cells": [
  {
   "cell_type": "code",
   "execution_count": 518,
   "id": "35169d37-742d-44fc-a0ca-6296e50533d2",
   "metadata": {},
   "outputs": [],
   "source": [
    "import matplotlib.pyplot as plt\n",
    "import numpy as np"
   ]
  },
  {
   "cell_type": "code",
   "execution_count": 519,
   "id": "5be728ce-c09d-43c0-b08a-ccefb5be1b51",
   "metadata": {},
   "outputs": [],
   "source": [
    "reservation_dict = {}"
   ]
  },
  {
   "cell_type": "code",
   "execution_count": 520,
   "id": "0d8406b9-5d7e-4acd-bcbc-49a4425ace0a",
   "metadata": {},
   "outputs": [
    {
     "name": "stdout",
     "output_type": "stream",
     "text": [
      "[[2]]\n",
      "{1: [1, 0, 1]}\n"
     ]
    }
   ],
   "source": [
    "new_reservation(1, 0, 1)\n",
    "keys = sorted(reservation_dict.keys())\n",
    "sorted_list = [sum(reservation_dict[i]) for i in keys]\n",
    "reservation_list = np.array([sorted_list])\n",
    "print(reservation_list)\n",
    "print(reservation_dict)"
   ]
  },
  {
   "cell_type": "code",
   "execution_count": 521,
   "id": "86ae853b-0703-4a22-ba74-bf68ca75b6a0",
   "metadata": {},
   "outputs": [],
   "source": [
    "def new_reservation(bread1_c, bread2_c, bread3_c):\n",
    "    total = bread1_c + bread2_c + bread3_c\n",
    "    keys = sorted(reservation_dict.keys())\n",
    "\n",
    "    if not keys:\n",
    "        reservation_dict[1] = [bread1_c, bread2_c, bread3_c]\n",
    "        return\n",
    "\n",
    "    last_key = keys[-1]\n",
    "    last_sum = sum(reservation_dict[last_key])\n",
    "    \n",
    "    if total == 1:\n",
    "        for i in range(len(keys) - 1):\n",
    "            if sum(reservation_dict[keys[i]]) > 1 and sum(reservation_dict[keys[i + 1]]) > 1:\n",
    "                reservation_dict[keys[i] + 1] = [bread1_c, bread2_c, bread3_c]\n",
    "                return\n",
    "\n",
    "        new_key = 1 if not keys else keys[-1] + (2 if last_sum == 1 else 1)\n",
    "        reservation_dict[new_key] = [bread1_c, bread2_c, bread3_c]\n",
    "        \n",
    "    else:\n",
    "        last_multiple = 0\n",
    "        for key in reversed(keys):\n",
    "            if sum(reservation_dict[key]) > 1:\n",
    "                last_multiple = key\n",
    "                break\n",
    "        distance = (keys[-1] - last_multiple) // 2\n",
    "        if last_multiple == last_key:\n",
    "            reservation_dict[last_key + 2] = [bread1_c, bread2_c, bread3_c]\n",
    "        \n",
    "        elif distance < total and last_sum == 1:\n",
    "            reservation_dict[last_key + 1] = [bread1_c, bread2_c, bread3_c]\n",
    "        \n",
    "        else:\n",
    "            reservation_dict[last_multiple + (total * 2)] = [bread1_c, bread2_c, bread3_c]"
   ]
  },
  {
   "cell_type": "code",
   "execution_count": 522,
   "id": "af5349f0-9899-49c4-9e86-d468208e402f",
   "metadata": {},
   "outputs": [
    {
     "data": {
      "text/plain": [
       "0"
      ]
     },
     "execution_count": 522,
     "metadata": {},
     "output_type": "execute_result"
    }
   ],
   "source": [
    "time_per_bread = {0: 1, 1: 1, 2: 1}\n",
    "\n",
    "def compute_bread_time(reserve):\n",
    "    return sum(bread * time_per_bread.get(index, 1) for index, bread in enumerate(reserve))\n",
    "\n",
    "def exist_customer_time(keys, reservation_dict):\n",
    "    return sum(compute_bread_time(reservation_dict[reserve]) for reserve in keys)\n",
    "\n",
    "def compute_empty_slot_time(keys, reservation_dict):\n",
    "    time, consecutive_empty, consecutive_full = 0, 0, 0\n",
    "\n",
    "    prev_sum = sum(reservation_dict[keys[0]]) if keys else 0  # Handle empty keys case\n",
    "\n",
    "    for i in range(1, len(keys)):\n",
    "        curr_sum = sum(reservation_dict[keys[i]])\n",
    "\n",
    "        if prev_sum == 1 and curr_sum == 1:\n",
    "            consecutive_empty += 1\n",
    "        else:\n",
    "            consecutive_empty = 0\n",
    "        \n",
    "        if prev_sum > 1 and curr_sum > 1:\n",
    "            consecutive_full += 1\n",
    "\n",
    "        prev_sum = curr_sum  # Update for next iteration\n",
    "\n",
    "    return consecutive_empty + consecutive_full\n",
    "\n",
    "\n",
    "keys = sorted(reservation_dict.keys())\n",
    "compute_empty_slot_time(keys, reservation_dict)"
   ]
  }
 ],
 "metadata": {
  "kernelspec": {
   "display_name": "Python 3 (ipykernel)",
   "language": "python",
   "name": "python3"
  },
  "language_info": {
   "codemirror_mode": {
    "name": "ipython",
    "version": 3
   },
   "file_extension": ".py",
   "mimetype": "text/x-python",
   "name": "python",
   "nbconvert_exporter": "python",
   "pygments_lexer": "ipython3",
   "version": "3.13.0"
  }
 },
 "nbformat": 4,
 "nbformat_minor": 5
}
